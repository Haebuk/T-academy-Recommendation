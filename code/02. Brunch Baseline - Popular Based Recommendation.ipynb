{
 "cells": [
  {
   "cell_type": "code",
   "execution_count": 1,
   "metadata": {},
   "outputs": [],
   "source": [
    "import pickle\n",
    "import pandas as pd\n",
    "import numpy as np\n",
    "import os, sys, gc \n",
    "from plotnine import *\n",
    "import plotnine\n",
    "\n",
    "from tqdm import tqdm_notebook\n",
    "import seaborn as sns\n",
    "import warnings\n",
    "import matplotlib.pyplot as plt\n",
    "import matplotlib.font_manager as fm\n",
    "import matplotlib as mpl\n",
    "from matplotlib import rc\n",
    "import re\n",
    "from matplotlib.ticker import PercentFormatter\n",
    "import datetime\n",
    "from math import log # IDF 계산을 위해"
   ]
  },
  {
   "cell_type": "code",
   "execution_count": 2,
   "metadata": {},
   "outputs": [],
   "source": [
    "%config InlineBackend.figure_format = 'retina'\n",
    "\n",
    "mpl.font_manager._rebuild()\n",
    "mpl.pyplot.rc('font', family='NanumBarunGothic')\n",
    "plt.rc('font', family='NanumBarunGothic')\n",
    "plt.rcParams['font.family'] = 'NanumBarunGothic'\n",
    "\n",
    "fontpath = 'C:/Users/User/Anaconda3/Lib/site-packages/matplotlib/mpl-data/fonts/ttf/NanumBarunGothic.ttf'\n",
    "font = fm.FontProperties(fname=fontpath, size=9).get_name()"
   ]
  },
  {
   "cell_type": "markdown",
   "metadata": {},
   "source": [
    "## 베이스라인 모델 생성\n",
    "- Popular Based Recommendation\n",
    "- Popular Based Recommendation with following arthor"
   ]
  },
  {
   "cell_type": "code",
   "execution_count": 3,
   "metadata": {},
   "outputs": [],
   "source": [
    "path = 'C:/Users/User/Documents/T아카데미/T 아카데미/input/'"
   ]
  },
  {
   "cell_type": "code",
   "execution_count": 4,
   "metadata": {},
   "outputs": [],
   "source": [
    "# pd.read_json : json 형태의 파일을 dataframe 형태로 불러오는 코드 \n",
    "magazine = pd.read_json(path + 'magazine.json', lines=True) # lines = True : Read the file as a json object per line.\n",
    "metadata = pd.read_json(path + 'metadata.json', lines=True)\n",
    "users = pd.read_json(path + 'users.json', lines=True)"
   ]
  },
  {
   "cell_type": "code",
   "execution_count": 5,
   "metadata": {},
   "outputs": [
    {
     "data": {
      "application/vnd.jupyter.widget-view+json": {
       "model_id": "072cb641b0ce437e928f6d407483a6d2",
       "version_major": 2,
       "version_minor": 0
      },
      "text/plain": [
       "HBox(children=(IntProgress(value=0, max=3624), HTML(value='')))"
      ]
     },
     "metadata": {},
     "output_type": "display_data"
    },
    {
     "name": "stdout",
     "output_type": "stream",
     "text": [
      "\n",
      "Wall time: 25 s\n"
     ]
    }
   ],
   "source": [
    "%%time \n",
    "import itertools\n",
    "from itertools import chain\n",
    "import glob\n",
    "import os \n",
    "\n",
    "input_read_path = path + 'read/read/'\n",
    "# os.listdir : 해당 경로에 있는 모든 파일들을 불러오는 명령어 \n",
    "file_list = os.listdir(input_read_path)\n",
    "exclude_file_lst = ['read.tar', '.2019010120_2019010121.un~']\n",
    "\n",
    "read_df_list = []\n",
    "for file in tqdm_notebook(file_list):\n",
    "    # 예외처리 \n",
    "    if file in exclude_file_lst:\n",
    "        continue \n",
    "    else:\n",
    "        file_path = input_read_path + file\n",
    "        df_temp = pd.read_csv(file_path, header=None, names=['raw'])\n",
    "        # file명을 통해서 읽은 시간을 추출(from, to)\n",
    "        df_temp['from'] = file.split('_')[0]\n",
    "        df_temp['to'] = file.split('_')[1]\n",
    "        read_df_list.append(df_temp)\n",
    "    \n",
    "read_df = pd.concat(read_df_list)\n",
    "# reads 파일을 전처리해서 row 당 user - article이 1:1이 되도록 수정 \n",
    "read_df['user_id'] = read_df['raw'].apply(lambda x: x.split(' ')[0])\n",
    "read_df['article_id'] = read_df['raw'].apply(lambda x: x.split(' ')[1:])\n",
    "\n",
    "def chainer(s):\n",
    "    return list(itertools.chain.from_iterable(s))\n",
    "\n",
    "read_cnt_by_user = read_df['article_id'].map(len)\n",
    "read_rowwise = pd.DataFrame({'from': np.repeat(read_df['from'], read_cnt_by_user),\n",
    "                             'to': np.repeat(read_df['to'], read_cnt_by_user),\n",
    "                             'user_id': np.repeat(read_df['user_id'], read_cnt_by_user),\n",
    "                             'article_id': chainer(read_df['article_id'])})\n",
    "\n",
    "read_rowwise.reset_index(drop=True, inplace=True)"
   ]
  },
  {
   "cell_type": "code",
   "execution_count": 6,
   "metadata": {},
   "outputs": [],
   "source": [
    "from datetime import datetime \n",
    "\n",
    "metadata['reg_datetime'] = metadata['reg_ts'].apply(lambda x : datetime.fromtimestamp(x/1000.0))\n",
    "metadata.loc[metadata['reg_datetime'] == metadata['reg_datetime'].min(), 'reg_datetime'] = datetime(2090, 12, 31)\n",
    "metadata['reg_dt'] = metadata['reg_datetime'].dt.date\n",
    "metadata['type'] = metadata['magazine_id'].apply(lambda x : '개인' if x == 0.0 else '매거진')\n",
    "metadata['reg_dt'] = pd.to_datetime(metadata['reg_dt'])"
   ]
  },
  {
   "cell_type": "markdown",
   "metadata": {},
   "source": [
    "## Popular Based Recommendation\n",
    "- 2019년도 이후로 작성된 글중에서 상위 100건의 글을 추천 \n",
    "- 사용자가 읽은 글은 추천이 되지 않도록 후처리"
   ]
  },
  {
   "cell_type": "code",
   "execution_count": 7,
   "metadata": {},
   "outputs": [],
   "source": [
    "# 2019년도 이후로 작성된 글중에서 상위 100건의 글을 추천 \n",
    "# 단, 이미 읽은 글의 경우는 추천에서 제외 \n",
    "read_rowwise = read_rowwise.merge(metadata[['id', 'reg_dt']], how='left', left_on='article_id', right_on='id')"
   ]
  },
  {
   "cell_type": "code",
   "execution_count": 8,
   "metadata": {},
   "outputs": [
    {
     "data": {
      "text/html": [
       "<div>\n",
       "<style scoped>\n",
       "    .dataframe tbody tr th:only-of-type {\n",
       "        vertical-align: middle;\n",
       "    }\n",
       "\n",
       "    .dataframe tbody tr th {\n",
       "        vertical-align: top;\n",
       "    }\n",
       "\n",
       "    .dataframe thead th {\n",
       "        text-align: right;\n",
       "    }\n",
       "</style>\n",
       "<table border=\"1\" class=\"dataframe\">\n",
       "  <thead>\n",
       "    <tr style=\"text-align: right;\">\n",
       "      <th></th>\n",
       "      <th>from</th>\n",
       "      <th>to</th>\n",
       "      <th>user_id</th>\n",
       "      <th>article_id</th>\n",
       "      <th>id</th>\n",
       "      <th>reg_dt</th>\n",
       "    </tr>\n",
       "  </thead>\n",
       "  <tbody>\n",
       "    <tr>\n",
       "      <td>0</td>\n",
       "      <td>2018100100</td>\n",
       "      <td>2018100101</td>\n",
       "      <td>#e208be4ffea19b1ceb5cea2e3c4dc32c</td>\n",
       "      <td>@kty0613_91</td>\n",
       "      <td>@kty0613_91</td>\n",
       "      <td>2018-10-01</td>\n",
       "    </tr>\n",
       "    <tr>\n",
       "      <td>1</td>\n",
       "      <td>2018100100</td>\n",
       "      <td>2018100101</td>\n",
       "      <td>#e208be4ffea19b1ceb5cea2e3c4dc32c</td>\n",
       "      <td></td>\n",
       "      <td>NaN</td>\n",
       "      <td>NaT</td>\n",
       "    </tr>\n",
       "    <tr>\n",
       "      <td>2</td>\n",
       "      <td>2018100100</td>\n",
       "      <td>2018100101</td>\n",
       "      <td>#0a3d493f3b2318be80f391eaa00bfd1c</td>\n",
       "      <td>@miamiyoung_31</td>\n",
       "      <td>@miamiyoung_31</td>\n",
       "      <td>2018-09-03</td>\n",
       "    </tr>\n",
       "    <tr>\n",
       "      <td>3</td>\n",
       "      <td>2018100100</td>\n",
       "      <td>2018100101</td>\n",
       "      <td>#0a3d493f3b2318be80f391eaa00bfd1c</td>\n",
       "      <td>@banksalad_49</td>\n",
       "      <td>@banksalad_49</td>\n",
       "      <td>2016-11-30</td>\n",
       "    </tr>\n",
       "    <tr>\n",
       "      <td>4</td>\n",
       "      <td>2018100100</td>\n",
       "      <td>2018100101</td>\n",
       "      <td>#0a3d493f3b2318be80f391eaa00bfd1c</td>\n",
       "      <td>@rlfrjsdn_95</td>\n",
       "      <td>@rlfrjsdn_95</td>\n",
       "      <td>2018-06-04</td>\n",
       "    </tr>\n",
       "  </tbody>\n",
       "</table>\n",
       "</div>"
      ],
      "text/plain": [
       "         from          to                            user_id      article_id  \\\n",
       "0  2018100100  2018100101  #e208be4ffea19b1ceb5cea2e3c4dc32c     @kty0613_91   \n",
       "1  2018100100  2018100101  #e208be4ffea19b1ceb5cea2e3c4dc32c                   \n",
       "2  2018100100  2018100101  #0a3d493f3b2318be80f391eaa00bfd1c  @miamiyoung_31   \n",
       "3  2018100100  2018100101  #0a3d493f3b2318be80f391eaa00bfd1c   @banksalad_49   \n",
       "4  2018100100  2018100101  #0a3d493f3b2318be80f391eaa00bfd1c    @rlfrjsdn_95   \n",
       "\n",
       "               id     reg_dt  \n",
       "0     @kty0613_91 2018-10-01  \n",
       "1             NaN        NaT  \n",
       "2  @miamiyoung_31 2018-09-03  \n",
       "3   @banksalad_49 2016-11-30  \n",
       "4    @rlfrjsdn_95 2018-06-04  "
      ]
     },
     "execution_count": 8,
     "metadata": {},
     "output_type": "execute_result"
    }
   ],
   "source": [
    "read_rowwise.head()"
   ]
  },
  {
   "cell_type": "code",
   "execution_count": 9,
   "metadata": {},
   "outputs": [],
   "source": [
    "# 사용자가 읽은 글의 목록들을 저장 \n",
    "read_total = pd.DataFrame(read_rowwise.groupby(['user_id'])['article_id'].unique()).reset_index()\n",
    "read_total.columns = ['user_id', 'article_list']"
   ]
  },
  {
   "cell_type": "code",
   "execution_count": 10,
   "metadata": {},
   "outputs": [],
   "source": [
    "# 1. article_id가 결측치인 경우는 삭제 (작가가 사라진 경우)\n",
    "# 2. reg_dt가 결측치인 경우는 삭제 (메타데이터에 자료가 없는 경우)\n",
    "read_rowwise = read_rowwise[read_rowwise['article_id'] != '']\n",
    "read_rowwise = read_rowwise[(read_rowwise['id'].notnull()) & (read_rowwise['reg_dt'].notnull())]\n",
    "read_rowwise = read_rowwise[(read_rowwise['reg_dt'] >= '2019-01-01') & (read_rowwise['reg_dt'] < '2090-12-31')].reset_index(drop=True)\n",
    "\n",
    "del read_rowwise['id']"
   ]
  },
  {
   "cell_type": "code",
   "execution_count": 11,
   "metadata": {},
   "outputs": [],
   "source": [
    "valid = pd.read_csv(path + '/predict/predict/dev.users', header=None)"
   ]
  },
  {
   "cell_type": "code",
   "execution_count": 27,
   "metadata": {
    "scrolled": true
   },
   "outputs": [
    {
     "data": {
      "application/vnd.jupyter.widget-view+json": {
       "model_id": "0424ef59f75249e4aa9fac9c02e7a334",
       "version_major": 2,
       "version_minor": 0
      },
      "text/plain": [
       "HBox(children=(IntProgress(value=0, max=3000), HTML(value='')))"
      ]
     },
     "metadata": {},
     "output_type": "display_data"
    },
    {
     "name": "stdout",
     "output_type": "stream",
     "text": [
      "\n"
     ]
    }
   ],
   "source": [
    "popular_rec_model = read_rowwise['article_id'].value_counts().index[0:1000]\n",
    "with open('./recommend.txt', 'w') as f:\n",
    "    for user in tqdm_notebook(valid[0].values):\n",
    "        # 추천 후보 \n",
    "        seen = chainer(read_total[read_total['user_id'] == user]['article_list'].values)\n",
    "        recs = []\n",
    "        for r in popular_rec_model:\n",
    "            if len(recs) == 100: \n",
    "                break \n",
    "            else: \n",
    "                if r not in seen: recs.append(r)\n",
    "        f.write('%s %s\\n' % (user, ' '.join(recs)))"
   ]
  },
  {
   "attachments": {},
   "cell_type": "markdown",
   "metadata": {},
   "source": [
    "![](https://github.com/choco9966/T-academy-Recommendation/blob/master/figure/Popular_Based_score.PNG?raw=true)"
   ]
  },
  {
   "cell_type": "markdown",
   "metadata": {},
   "source": [
    "## Popular Based Recommendation with following arthor\n",
    "- 2019년도 이후로 작성된 글중에서 구독작가의 글을 우선적으로 추천 \n",
    "- 사용자가 읽은 글은 추천이 되지 않도록 후처리"
   ]
  },
  {
   "attachments": {},
   "cell_type": "markdown",
   "metadata": {},
   "source": [
    "![](https://github.com/choco9966/T-academy-Recommendation/blob/master/figure/Following_popular.PNG?raw=true)"
   ]
  },
  {
   "cell_type": "code",
   "execution_count": 13,
   "metadata": {},
   "outputs": [],
   "source": [
    "following_cnt_by_user = users['following_list'].map(len)\n",
    "following_rowwise = pd.DataFrame({'user_id': np.repeat(users['id'], following_cnt_by_user),\n",
    "                             'author_id': chainer(users['following_list'])})\n",
    "\n",
    "following_rowwise.reset_index(drop=True, inplace=True)"
   ]
  },
  {
   "cell_type": "code",
   "execution_count": 15,
   "metadata": {},
   "outputs": [
    {
     "data": {
      "text/html": [
       "<div>\n",
       "<style scoped>\n",
       "    .dataframe tbody tr th:only-of-type {\n",
       "        vertical-align: middle;\n",
       "    }\n",
       "\n",
       "    .dataframe tbody tr th {\n",
       "        vertical-align: top;\n",
       "    }\n",
       "\n",
       "    .dataframe thead th {\n",
       "        text-align: right;\n",
       "    }\n",
       "</style>\n",
       "<table border=\"1\" class=\"dataframe\">\n",
       "  <thead>\n",
       "    <tr style=\"text-align: right;\">\n",
       "      <th></th>\n",
       "      <th>user_id</th>\n",
       "      <th>author_id</th>\n",
       "    </tr>\n",
       "  </thead>\n",
       "  <tbody>\n",
       "    <tr>\n",
       "      <td>310</td>\n",
       "      <td>#a6f7a5ff90a19ec4d583f0db1836844d</td>\n",
       "      <td>@potatohands</td>\n",
       "    </tr>\n",
       "    <tr>\n",
       "      <td>311</td>\n",
       "      <td>#a6f7a5ff90a19ec4d583f0db1836844d</td>\n",
       "      <td>@ggpodori</td>\n",
       "    </tr>\n",
       "    <tr>\n",
       "      <td>312</td>\n",
       "      <td>#a6f7a5ff90a19ec4d583f0db1836844d</td>\n",
       "      <td>@chae-pulib</td>\n",
       "    </tr>\n",
       "    <tr>\n",
       "      <td>313</td>\n",
       "      <td>#a6f7a5ff90a19ec4d583f0db1836844d</td>\n",
       "      <td>@roysday</td>\n",
       "    </tr>\n",
       "    <tr>\n",
       "      <td>314</td>\n",
       "      <td>#a6f7a5ff90a19ec4d583f0db1836844d</td>\n",
       "      <td>@lovebrander</td>\n",
       "    </tr>\n",
       "  </tbody>\n",
       "</table>\n",
       "</div>"
      ],
      "text/plain": [
       "                               user_id     author_id\n",
       "310  #a6f7a5ff90a19ec4d583f0db1836844d  @potatohands\n",
       "311  #a6f7a5ff90a19ec4d583f0db1836844d     @ggpodori\n",
       "312  #a6f7a5ff90a19ec4d583f0db1836844d   @chae-pulib\n",
       "313  #a6f7a5ff90a19ec4d583f0db1836844d      @roysday\n",
       "314  #a6f7a5ff90a19ec4d583f0db1836844d  @lovebrander"
      ]
     },
     "execution_count": 15,
     "metadata": {},
     "output_type": "execute_result"
    }
   ],
   "source": [
    "following_rowwise = following_rowwise[following_rowwise['user_id'].isin(valid[0].values)]\n",
    "following_rowwise.head()"
   ]
  },
  {
   "cell_type": "code",
   "execution_count": 16,
   "metadata": {
    "scrolled": true
   },
   "outputs": [
    {
     "name": "stdout",
     "output_type": "stream",
     "text": [
      "Wall time: 1.7 s\n"
     ]
    }
   ],
   "source": [
    "%%time \n",
    "metadata_ = metadata[['user_id', 'id', 'reg_dt']]\n",
    "metadata_.columns = ['author_id', 'article_id', 'reg_dt']\n",
    "following_popular_model = pd.merge(following_rowwise, metadata_, how='left', on='author_id')"
   ]
  },
  {
   "cell_type": "markdown",
   "metadata": {},
   "source": [
    "위의 모델을 통해서 추천하려고 했더니 발생하는 문제점 \n",
    "1. 구독하는 작가가 없는 경우에는 어떤 식으로 추천해야할 지? \n",
    "2. 구독하는 작가가 여러명이고 작가의 글도 여러개인데 어떤 글을 위주로 추천해야할 지? \n",
    "\n",
    "단순한 해결책 \n",
    "1. Popular Based Model에서 상위 100건을 추천 \n",
    "2. 작가중에서 선호하는 작가를 선정하고 해당 작가의 인기글을 추천 \n",
    "    - 선호 : 해당 작가의 글을 가장 많이 읽음 \n",
    "    - 위의 정의 말고도 \"얼마나 많은 날에 찾아가서 읽었는 지\", \"작가의 글중에서 몇편의 글을 읽었는 지\" 등으로 다르게 정의도 가능"
   ]
  },
  {
   "cell_type": "code",
   "execution_count": 17,
   "metadata": {
    "scrolled": true
   },
   "outputs": [
    {
     "name": "stdout",
     "output_type": "stream",
     "text": [
      "Wall time: 3.64 s\n"
     ]
    }
   ],
   "source": [
    "%%time \n",
    "read_rowwise['author_id'] = read_rowwise['article_id'].apply(lambda x: x.split('_')[0])\n",
    "author_favor = read_rowwise.groupby(['user_id', 'author_id'])['author_id'].agg({'count'}).reset_index()"
   ]
  },
  {
   "cell_type": "code",
   "execution_count": 18,
   "metadata": {},
   "outputs": [],
   "source": [
    "popular_model = pd.DataFrame(read_rowwise['article_id'].value_counts()).reset_index()\n",
    "popular_model.columns = ['article_id', 'count']"
   ]
  },
  {
   "cell_type": "code",
   "execution_count": 19,
   "metadata": {},
   "outputs": [
    {
     "data": {
      "text/html": [
       "<div>\n",
       "<style scoped>\n",
       "    .dataframe tbody tr th:only-of-type {\n",
       "        vertical-align: middle;\n",
       "    }\n",
       "\n",
       "    .dataframe tbody tr th {\n",
       "        vertical-align: top;\n",
       "    }\n",
       "\n",
       "    .dataframe thead th {\n",
       "        text-align: right;\n",
       "    }\n",
       "</style>\n",
       "<table border=\"1\" class=\"dataframe\">\n",
       "  <thead>\n",
       "    <tr style=\"text-align: right;\">\n",
       "      <th></th>\n",
       "      <th>user_id</th>\n",
       "      <th>author_id</th>\n",
       "      <th>article_id</th>\n",
       "      <th>reg_dt</th>\n",
       "      <th>count_x</th>\n",
       "      <th>count_y</th>\n",
       "    </tr>\n",
       "  </thead>\n",
       "  <tbody>\n",
       "    <tr>\n",
       "      <td>0</td>\n",
       "      <td>#a6f7a5ff90a19ec4d583f0db1836844d</td>\n",
       "      <td>@potatohands</td>\n",
       "      <td>@potatohands_8</td>\n",
       "      <td>2019-03-01</td>\n",
       "      <td>2.0</td>\n",
       "      <td>NaN</td>\n",
       "    </tr>\n",
       "    <tr>\n",
       "      <td>1</td>\n",
       "      <td>#a6f7a5ff90a19ec4d583f0db1836844d</td>\n",
       "      <td>@potatohands</td>\n",
       "      <td>@potatohands_5</td>\n",
       "      <td>2019-02-04</td>\n",
       "      <td>2.0</td>\n",
       "      <td>410.0</td>\n",
       "    </tr>\n",
       "    <tr>\n",
       "      <td>2</td>\n",
       "      <td>#a6f7a5ff90a19ec4d583f0db1836844d</td>\n",
       "      <td>@potatohands</td>\n",
       "      <td>@potatohands_6</td>\n",
       "      <td>2019-02-21</td>\n",
       "      <td>2.0</td>\n",
       "      <td>105.0</td>\n",
       "    </tr>\n",
       "    <tr>\n",
       "      <td>3</td>\n",
       "      <td>#a6f7a5ff90a19ec4d583f0db1836844d</td>\n",
       "      <td>@ggpodori</td>\n",
       "      <td>@ggpodori_14</td>\n",
       "      <td>2019-01-28</td>\n",
       "      <td>2.0</td>\n",
       "      <td>2603.0</td>\n",
       "    </tr>\n",
       "    <tr>\n",
       "      <td>4</td>\n",
       "      <td>#a6f7a5ff90a19ec4d583f0db1836844d</td>\n",
       "      <td>@ggpodori</td>\n",
       "      <td>@ggpodori_12</td>\n",
       "      <td>2019-03-14</td>\n",
       "      <td>2.0</td>\n",
       "      <td>NaN</td>\n",
       "    </tr>\n",
       "  </tbody>\n",
       "</table>\n",
       "</div>"
      ],
      "text/plain": [
       "                             user_id     author_id      article_id     reg_dt  \\\n",
       "0  #a6f7a5ff90a19ec4d583f0db1836844d  @potatohands  @potatohands_8 2019-03-01   \n",
       "1  #a6f7a5ff90a19ec4d583f0db1836844d  @potatohands  @potatohands_5 2019-02-04   \n",
       "2  #a6f7a5ff90a19ec4d583f0db1836844d  @potatohands  @potatohands_6 2019-02-21   \n",
       "3  #a6f7a5ff90a19ec4d583f0db1836844d     @ggpodori    @ggpodori_14 2019-01-28   \n",
       "4  #a6f7a5ff90a19ec4d583f0db1836844d     @ggpodori    @ggpodori_12 2019-03-14   \n",
       "\n",
       "   count_x  count_y  \n",
       "0      2.0      NaN  \n",
       "1      2.0    410.0  \n",
       "2      2.0    105.0  \n",
       "3      2.0   2603.0  \n",
       "4      2.0      NaN  "
      ]
     },
     "execution_count": 19,
     "metadata": {},
     "output_type": "execute_result"
    }
   ],
   "source": [
    "following_popular_model = pd.merge(following_popular_model, author_favor, how='left', on=['user_id', 'author_id'])\n",
    "following_popular_model = following_popular_model[following_popular_model['count'].notnull()].reset_index(drop=True)\n",
    "following_popular_model = pd.merge(following_popular_model, popular_model, how='left', on='article_id')\n",
    "following_popular_model.head()"
   ]
  },
  {
   "cell_type": "markdown",
   "metadata": {},
   "source": [
    "- count_x : 작가에 대한 개별 사용자의 선호도 \n",
    "- count_y : 글에 대한 전체 사용자의 선호도 "
   ]
  },
  {
   "cell_type": "code",
   "execution_count": 20,
   "metadata": {},
   "outputs": [],
   "source": [
    "following_popular_model = following_popular_model.sort_values(by=['count_x', 'count_y', 'reg_dt'], ascending=[False, False, False])"
   ]
  },
  {
   "cell_type": "code",
   "execution_count": 22,
   "metadata": {},
   "outputs": [
    {
     "data": {
      "text/html": [
       "<div>\n",
       "<style scoped>\n",
       "    .dataframe tbody tr th:only-of-type {\n",
       "        vertical-align: middle;\n",
       "    }\n",
       "\n",
       "    .dataframe tbody tr th {\n",
       "        vertical-align: top;\n",
       "    }\n",
       "\n",
       "    .dataframe thead th {\n",
       "        text-align: right;\n",
       "    }\n",
       "</style>\n",
       "<table border=\"1\" class=\"dataframe\">\n",
       "  <thead>\n",
       "    <tr style=\"text-align: right;\">\n",
       "      <th></th>\n",
       "      <th>user_id</th>\n",
       "      <th>author_id</th>\n",
       "      <th>article_id</th>\n",
       "      <th>reg_dt</th>\n",
       "      <th>count_x</th>\n",
       "      <th>count_y</th>\n",
       "    </tr>\n",
       "  </thead>\n",
       "  <tbody>\n",
       "    <tr>\n",
       "      <td>180</td>\n",
       "      <td>#a6f7a5ff90a19ec4d583f0db1836844d</td>\n",
       "      <td>@soo-log</td>\n",
       "      <td>@soo-log_169</td>\n",
       "      <td>2019-01-10</td>\n",
       "      <td>5.0</td>\n",
       "      <td>1882.0</td>\n",
       "    </tr>\n",
       "    <tr>\n",
       "      <td>181</td>\n",
       "      <td>#a6f7a5ff90a19ec4d583f0db1836844d</td>\n",
       "      <td>@soo-log</td>\n",
       "      <td>@soo-log_171</td>\n",
       "      <td>2019-01-17</td>\n",
       "      <td>5.0</td>\n",
       "      <td>1466.0</td>\n",
       "    </tr>\n",
       "    <tr>\n",
       "      <td>182</td>\n",
       "      <td>#a6f7a5ff90a19ec4d583f0db1836844d</td>\n",
       "      <td>@soo-log</td>\n",
       "      <td>@soo-log_174</td>\n",
       "      <td>2019-01-24</td>\n",
       "      <td>5.0</td>\n",
       "      <td>896.0</td>\n",
       "    </tr>\n",
       "    <tr>\n",
       "      <td>184</td>\n",
       "      <td>#a6f7a5ff90a19ec4d583f0db1836844d</td>\n",
       "      <td>@soo-log</td>\n",
       "      <td>@soo-log_178</td>\n",
       "      <td>2019-01-31</td>\n",
       "      <td>5.0</td>\n",
       "      <td>873.0</td>\n",
       "    </tr>\n",
       "    <tr>\n",
       "      <td>192</td>\n",
       "      <td>#a6f7a5ff90a19ec4d583f0db1836844d</td>\n",
       "      <td>@soo-log</td>\n",
       "      <td>@soo-log_184</td>\n",
       "      <td>2019-02-07</td>\n",
       "      <td>5.0</td>\n",
       "      <td>787.0</td>\n",
       "    </tr>\n",
       "  </tbody>\n",
       "</table>\n",
       "</div>"
      ],
      "text/plain": [
       "                               user_id author_id    article_id     reg_dt  \\\n",
       "180  #a6f7a5ff90a19ec4d583f0db1836844d  @soo-log  @soo-log_169 2019-01-10   \n",
       "181  #a6f7a5ff90a19ec4d583f0db1836844d  @soo-log  @soo-log_171 2019-01-17   \n",
       "182  #a6f7a5ff90a19ec4d583f0db1836844d  @soo-log  @soo-log_174 2019-01-24   \n",
       "184  #a6f7a5ff90a19ec4d583f0db1836844d  @soo-log  @soo-log_178 2019-01-31   \n",
       "192  #a6f7a5ff90a19ec4d583f0db1836844d  @soo-log  @soo-log_184 2019-02-07   \n",
       "\n",
       "     count_x  count_y  \n",
       "180      5.0   1882.0  \n",
       "181      5.0   1466.0  \n",
       "182      5.0    896.0  \n",
       "184      5.0    873.0  \n",
       "192      5.0    787.0  "
      ]
     },
     "execution_count": 22,
     "metadata": {},
     "output_type": "execute_result"
    }
   ],
   "source": [
    "following_popular_model[following_popular_model['user_id'] == '#a6f7a5ff90a19ec4d583f0db1836844d'].head()"
   ]
  },
  {
   "cell_type": "code",
   "execution_count": 26,
   "metadata": {},
   "outputs": [
    {
     "data": {
      "application/vnd.jupyter.widget-view+json": {
       "model_id": "22f42b7cf43d42f1a520fe33b48b63b7",
       "version_major": 2,
       "version_minor": 0
      },
      "text/plain": [
       "HBox(children=(IntProgress(value=0, max=3000), HTML(value='')))"
      ]
     },
     "metadata": {},
     "output_type": "display_data"
    },
    {
     "name": "stdout",
     "output_type": "stream",
     "text": [
      "\n"
     ]
    }
   ],
   "source": [
    "with open('./recommend.txt', 'w') as f:\n",
    "    for user in tqdm_notebook(valid[0].values):\n",
    "        # 추천 후보 \n",
    "        seen = chainer(read_total[read_total['user_id'] == user]['article_list'].values)\n",
    "        following_rec_model = following_popular_model[following_popular_model['user_id'] == user]['article_id'].values\n",
    "        recs = []\n",
    "        for r in following_rec_model:\n",
    "            if len(recs) == 100:\n",
    "                break \n",
    "            else: \n",
    "                if r not in seen + recs: recs.append(r)\n",
    "        \n",
    "        if len(recs) < 100: \n",
    "            for r in popular_rec_model:\n",
    "                if len(recs) == 100: \n",
    "                    break \n",
    "                else: \n",
    "                    if r not in seen + recs: recs.append(r)            \n",
    "        f.write('%s %s\\n' % (user, ' '.join(recs)))"
   ]
  },
  {
   "attachments": {},
   "cell_type": "markdown",
   "metadata": {},
   "source": [
    "![](https://github.com/choco9966/T-academy-Recommendation/blob/master/figure/Following_Popular_Based_score.PNG?raw=true)"
   ]
  }
 ],
 "metadata": {
  "kernelspec": {
   "display_name": "Python 3",
   "language": "python",
   "name": "python3"
  },
  "language_info": {
   "codemirror_mode": {
    "name": "ipython",
    "version": 3
   },
   "file_extension": ".py",
   "mimetype": "text/x-python",
   "name": "python",
   "nbconvert_exporter": "python",
   "pygments_lexer": "ipython3",
   "version": "3.6.8"
  }
 },
 "nbformat": 4,
 "nbformat_minor": 4
}
